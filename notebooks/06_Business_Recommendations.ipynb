{
 "cells": [
  {
   "cell_type": "markdown",
   "metadata": {},
   "source": [
    "## 📊 Бизнесийн зөвлөмж\n",
    "\n",
    "✅ **Loyalty Programs** – Churn болох өндөр магадлалтай үйлчлүүлэгчдэд тусгай урамшуулал санал болгох  \n",
    "✅ **Discount Offers** – Ховор хэрэглэгчдэд хөнгөлөлт үзүүлэх  \n",
    "✅ **Customer Engagement Campaigns** – Өндөр эрсдэлтэй үйлчлүүлэгчдийг идэвхтэй хянах  \n",
    "✅ **Tech Support Improvements** – Харилцагчийн дэмжлэгийн үйлчилгээ сайжруулах  \n"
   ]
  }
 ],
 "metadata": {
  "language_info": {
   "name": "python"
  }
 },
 "nbformat": 4,
 "nbformat_minor": 2
}
